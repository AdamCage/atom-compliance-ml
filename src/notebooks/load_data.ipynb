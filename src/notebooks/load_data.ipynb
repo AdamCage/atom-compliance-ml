{
 "cells": [
  {
   "cell_type": "markdown",
   "metadata": {},
   "source": [
    "# Imports"
   ]
  },
  {
   "cell_type": "code",
   "execution_count": 25,
   "metadata": {},
   "outputs": [],
   "source": [
    "from pathlib import Path\n",
    "import sys\n",
    "\n",
    "import pandas as pd\n",
    "import numpy as np\n",
    "\n",
    "abs_path = Path().resolve()\n",
    "sys.path.append(str(abs_path.parent / \"modules\"))\n",
    "\n",
    "import files_funcs as ff"
   ]
  },
  {
   "cell_type": "markdown",
   "metadata": {},
   "source": [
    "# Config"
   ]
  },
  {
   "cell_type": "code",
   "execution_count": null,
   "metadata": {},
   "outputs": [],
   "source": [
    "main_dir = abs_path.parent.parent\n",
    "\n",
    "config_path = abs_path.parent.parent / \"config\" / \"config.yaml\"\n",
    "config = ff.load_yaml(config_path)\n",
    "\n",
    "data_dir = main_dir / \"data\"\n",
    "uc_data_dir = data_dir / \"HMI\"\n",
    "ssts_data_dir = data_dir / \"SSTS\"\n",
    "\n",
    "columns = config[\"ds_topology\"][\"main_columns\"] + config[\"ds_topology\"][\"hmi_subheaders\"] + config[\"ds_topology\"][\"targets\"]\n",
    "columns = [col.lower().replace(\" \", \"_\") for col in columns]\n",
    "columns"
   ]
  },
  {
   "cell_type": "code",
   "execution_count": null,
   "metadata": {},
   "outputs": [],
   "source": []
  },
  {
   "cell_type": "markdown",
   "metadata": {},
   "source": [
    "# Loading"
   ]
  },
  {
   "cell_type": "code",
   "execution_count": 54,
   "metadata": {},
   "outputs": [],
   "source": [
    "def extract_text_from_docx(docx: docx.document.Document) -> list[str]:\n",
    "    return [para.text for para in docx.paragraphs]\n",
    "\n",
    "\n",
    "def extract_text_from_subheaders(texts: list[str], subheader: str) -> list[str]:\n",
    "    for para.lower() in texts:"
   ]
  },
  {
   "cell_type": "code",
   "execution_count": null,
   "metadata": {},
   "outputs": [],
   "source": []
  },
  {
   "cell_type": "code",
   "execution_count": null,
   "metadata": {},
   "outputs": [],
   "source": [
    "doc = Document(r'C:\\Users\\yytrb\\OneDrive\\Рабочий стол\\atom-compliance-ml\\data\\raw_data\\HMI\\UC-28561.docx')\n",
    "extract_text_from_docx(doc)"
   ]
  },
  {
   "cell_type": "code",
   "execution_count": null,
   "metadata": {},
   "outputs": [],
   "source": [
    "ssts_texts = []\n"
   ]
  },
  {
   "cell_type": "code",
   "execution_count": null,
   "metadata": {},
   "outputs": [],
   "source": [
    "pd.DataFrame([], columns=[])"
   ]
  },
  {
   "cell_type": "code",
   "execution_count": 11,
   "metadata": {},
   "outputs": [],
   "source": [
    "from docx import Document"
   ]
  },
  {
   "cell_type": "code",
   "execution_count": 13,
   "metadata": {},
   "outputs": [],
   "source": [
    "def extract_headings_and_subheadings(doc_path):\n",
    "    doc = Document(doc_path)\n",
    "    headings = []\n",
    "    subheadings = []\n",
    "    \n",
    "    \n",
    "    for para in doc.paragraphs:\n",
    "        text = para.text.strip()\n",
    "        if text:  # Проверяем, что параграф не пустой\n",
    "            # Проверяем, является ли параграф заголовком\n",
    "            if para.style.name.startswith('Heading'):\n",
    "                headings.append(text)\n",
    "            # Проверяем, является ли параграф подзаголовком\n",
    "            elif ':' in text and (para.text.endswith('\\n') or para.text.endswith('\\r')):\n",
    "                subheadings.append(text)\n",
    "            else\n",
    "\n",
    "    return headings, subheadings"
   ]
  },
  {
   "cell_type": "code",
   "execution_count": null,
   "metadata": {},
   "outputs": [],
   "source": [
    "Document(r'C:\\Users\\yytrb\\OneDrive\\Рабочий стол\\atom-compliance-ml\\data\\raw_data\\HMI\\UC-6583.docx')"
   ]
  },
  {
   "cell_type": "code",
   "execution_count": null,
   "metadata": {},
   "outputs": [],
   "source": [
    "extract_headings_and_subheadings(r'C:\\Users\\yytrb\\OneDrive\\Рабочий стол\\atom-compliance-ml\\data\\raw_data\\HMI\\UC-6583.docx')"
   ]
  },
  {
   "cell_type": "code",
   "execution_count": null,
   "metadata": {},
   "outputs": [],
   "source": []
  }
 ],
 "metadata": {
  "kernelspec": {
   "display_name": ".venv",
   "language": "python",
   "name": "python3"
  },
  "language_info": {
   "codemirror_mode": {
    "name": "ipython",
    "version": 3
   },
   "file_extension": ".py",
   "mimetype": "text/x-python",
   "name": "python",
   "nbconvert_exporter": "python",
   "pygments_lexer": "ipython3",
   "version": "3.12.4"
  }
 },
 "nbformat": 4,
 "nbformat_minor": 2
}

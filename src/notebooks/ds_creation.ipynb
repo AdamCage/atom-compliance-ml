{
 "cells": [
  {
   "cell_type": "markdown",
   "metadata": {},
   "source": [
    "# Imports"
   ]
  },
  {
   "cell_type": "code",
   "execution_count": 1,
   "metadata": {
    "jupyter": {
     "is_executing": true
    }
   },
   "outputs": [],
   "source": [
    "from pathlib import Path\n",
    "import sys\n",
    "import warnings\n",
    "\n",
    "import plotly.express as px\n",
    "import seaborn as sns\n",
    "import nbformat\n",
    "\n",
    "import pandas as pd\n",
    "\n",
    "abs_path = Path().resolve()\n",
    "sys.path.append(str(abs_path.parent / \"modules\"))\n",
    "\n",
    "import pandas as pd\n",
    "\n",
    "from files_funcs import *\n",
    "from docx_funcs import *\n",
    "\n",
    "warnings.filterwarnings(\"ignore\")"
   ]
  },
  {
   "cell_type": "markdown",
   "metadata": {},
   "source": [
    "# Config"
   ]
  },
  {
   "cell_type": "code",
   "execution_count": 2,
   "metadata": {},
   "outputs": [],
   "source": [
    "main_dir = abs_path.parent.parent\n",
    "\n",
    "config_path = abs_path.parent.parent / \"config\" / \"config.yaml\"\n",
    "config = load_yaml(config_path)\n",
    "\n",
    "data_dir = main_dir / \"data\"\n",
    "uc_data_dir = data_dir / \"raw_data\" / \"HMI\"\n",
    "ssts_data_dir = data_dir / \"raw_data\" / \"SSTS\"\n",
    "\n",
    "columns = (\n",
    "        config[\"ds_topology\"][\"main_columns\"]\n",
    "        + list(set(config[\"ds_topology\"][\"hmi_subheaders\"].values()))\n",
    "        + config[\"ds_topology\"][\"targets\"]\n",
    ")\n",
    "columns = [col.lower().replace(\" \", \"_\") for col in columns]"
   ]
  },
  {
   "cell_type": "markdown",
   "metadata": {},
   "source": [
    "# Loading"
   ]
  },
  {
   "cell_type": "code",
   "execution_count": 3,
   "metadata": {},
   "outputs": [
    {
     "name": "stdout",
     "output_type": "stream",
     "text": [
      "Warning! [Errno 2] No such file or directory: '/Users/beesknight/Desktop/code/bogdan/atom-compliance-ml/data/raw_data/SSTS/SSTS-26160.docx'\n"
     ]
    },
    {
     "data": {
      "text/html": [
       "<div>\n",
       "<style scoped>\n",
       "    .dataframe tbody tr th:only-of-type {\n",
       "        vertical-align: middle;\n",
       "    }\n",
       "\n",
       "    .dataframe tbody tr th {\n",
       "        vertical-align: top;\n",
       "    }\n",
       "\n",
       "    .dataframe thead th {\n",
       "        text-align: right;\n",
       "    }\n",
       "</style>\n",
       "<table border=\"1\" class=\"dataframe\">\n",
       "  <thead>\n",
       "    <tr style=\"text-align: right;\">\n",
       "      <th></th>\n",
       "      <th>id</th>\n",
       "      <th>case_name</th>\n",
       "      <th>full_uc_text</th>\n",
       "      <th>full_ssts_text</th>\n",
       "      <th>other</th>\n",
       "      <th>postconditions</th>\n",
       "      <th>main_scenario</th>\n",
       "      <th>preconditions</th>\n",
       "      <th>goal</th>\n",
       "      <th>differences</th>\n",
       "      <th>description</th>\n",
       "      <th>complience_level</th>\n",
       "    </tr>\n",
       "  </thead>\n",
       "  <tbody>\n",
       "    <tr>\n",
       "      <th>0</th>\n",
       "      <td>6583</td>\n",
       "      <td>Driver initiate a call through SWP</td>\n",
       "      <td>[I-6583]  Driver initiate a call through SWP\\n...</td>\n",
       "      <td>Make a call (B sample)\\nFunctional Description...</td>\n",
       "      <td></td>\n",
       "      <td>Postconditions:\\nIf the call is initiated succ...</td>\n",
       "      <td>Main Scenario:\\nThe driver navigates to the 'C...</td>\n",
       "      <td>Preconditions:\\nThe IVI is on in_2 \\nThe vehic...</td>\n",
       "      <td></td>\n",
       "      <td>None</td>\n",
       "      <td>None</td>\n",
       "      <td>None</td>\n",
       "    </tr>\n",
       "    <tr>\n",
       "      <th>1</th>\n",
       "      <td>30371</td>\n",
       "      <td>ERA Self-diagnosis</td>\n",
       "      <td>[I-30371]  ERA Self-diagnosis\\nActors:\\nERA-Gl...</td>\n",
       "      <td>ERA Self-diagnosis\\nFunctional Description\\n\\n...</td>\n",
       "      <td>Description:\\nERA self-diagnosis whether the s...</td>\n",
       "      <td></td>\n",
       "      <td></td>\n",
       "      <td></td>\n",
       "      <td></td>\n",
       "      <td>None</td>\n",
       "      <td>None</td>\n",
       "      <td>None</td>\n",
       "    </tr>\n",
       "    <tr>\n",
       "      <th>2</th>\n",
       "      <td>28561</td>\n",
       "      <td>Setting Hotspot name &amp; password</td>\n",
       "      <td>[I-28561]  Setting Hotspot name &amp; password\\nUs...</td>\n",
       "      <td>hotspot settings\\nFunctional Description\\nUser...</td>\n",
       "      <td>Scope: \\nSWP Actors:\\nDriver \\nOwner Requireme...</td>\n",
       "      <td></td>\n",
       "      <td>Main Scenario:\\nThe user guides to the hotspot...</td>\n",
       "      <td></td>\n",
       "      <td>Goal:\\nUsers can modify the name and password ...</td>\n",
       "      <td>None</td>\n",
       "      <td>None</td>\n",
       "      <td>None</td>\n",
       "    </tr>\n",
       "    <tr>\n",
       "      <th>3</th>\n",
       "      <td>26160</td>\n",
       "      <td>Filtering the internet radio stations</td>\n",
       "      <td>[I-26160]  Filtering the internet radio statio...</td>\n",
       "      <td>None</td>\n",
       "      <td>Description: Requirenments:\\nThe action is dis...</td>\n",
       "      <td>Postconditions:\\nout_2/out_5 displays the inte...</td>\n",
       "      <td>Main Scenario:\\nout_2/out_5 displays the list ...</td>\n",
       "      <td>Preconditions:\\nATOM is connected to the inter...</td>\n",
       "      <td>Goal: 'Reorder the Internet Radio stations by ...</td>\n",
       "      <td>None</td>\n",
       "      <td>None</td>\n",
       "      <td>None</td>\n",
       "    </tr>\n",
       "    <tr>\n",
       "      <th>4</th>\n",
       "      <td>25957</td>\n",
       "      <td>Mute/unmute the FM Radio playback</td>\n",
       "      <td>[I-25957]  Mute/unmute the FM Radio playback\\n...</td>\n",
       "      <td>Mute or pause function\\nFunctional Description...</td>\n",
       "      <td>Description:</td>\n",
       "      <td>Postconditions:\\nThe user Mutes/Unmutes the FM...</td>\n",
       "      <td>Main Scenario:\\n​​​User clicks on Mute/Unmute ...</td>\n",
       "      <td>Preconditions:\\nUser is playing FM Radio</td>\n",
       "      <td>Goal: \"Users are able to mute/unmute the FM Ra...</td>\n",
       "      <td>None</td>\n",
       "      <td>None</td>\n",
       "      <td>None</td>\n",
       "    </tr>\n",
       "    <tr>\n",
       "      <th>5</th>\n",
       "      <td>31523</td>\n",
       "      <td>Adding Internet Radio to Favorites List</td>\n",
       "      <td>[I-31523]  Adding Internet Radio to Favorites ...</td>\n",
       "      <td>Favorite Song operation\\nFunctional Descriptio...</td>\n",
       "      <td>Description: Actors:\\nCar User \\nIVI Triggers:...</td>\n",
       "      <td>Postconditions:\\nThe selected internet radio s...</td>\n",
       "      <td>Main Scenario:\\nThe user press on the UI inter...</td>\n",
       "      <td>Preconditions:\\nUser in in the Internet Radio ...</td>\n",
       "      <td>Goal: User wants to add favorites internet rad...</td>\n",
       "      <td>None</td>\n",
       "      <td>None</td>\n",
       "      <td>None</td>\n",
       "    </tr>\n",
       "    <tr>\n",
       "      <th>6</th>\n",
       "      <td>26771</td>\n",
       "      <td>Turn on and off hotspot via VA</td>\n",
       "      <td>[I-26771]  Turn on and off hotspot via VA\\n\\nD...</td>\n",
       "      <td>\\nTurn on and off hotspot\\nFunctional Descript...</td>\n",
       "      <td>Description: Scope:\\nSWP Android \\nVA \\nSmartp...</td>\n",
       "      <td></td>\n",
       "      <td>Main scenario:\\nThe user asks in_24 Voice. Mic...</td>\n",
       "      <td></td>\n",
       "      <td>Goal: \\nUsers can turn on or off the vehicle h...</td>\n",
       "      <td>None</td>\n",
       "      <td>None</td>\n",
       "      <td>None</td>\n",
       "    </tr>\n",
       "    <tr>\n",
       "      <th>7</th>\n",
       "      <td>8604</td>\n",
       "      <td>Source selection for Media output</td>\n",
       "      <td>[I-8604]  Source selection for Media output\\nD...</td>\n",
       "      <td>Switch music sources\\nFunctional Description\\n...</td>\n",
       "      <td>Description: Scope: This use case is about sel...</td>\n",
       "      <td>Postconditions:\\nout_2/out_5 shows available m...</td>\n",
       "      <td>Main Scenario:\\nUser selects the \"Multimedia\" ...</td>\n",
       "      <td>Preconditions:\\nATOM is on \\nin_5. Smartphone ...</td>\n",
       "      <td>Goal: Enable user selection of multimedia audi...</td>\n",
       "      <td>None</td>\n",
       "    </tr>\n",
       "    <tr>\n",
       "      <th>7</th>\n",
       "      <td>30371</td>\n",
       "      <td>ERA Self-diagnosis</td>\n",
       "      <td>[I-30371]  ERA Self-diagnosis\\nActors:\\nERA-Gl...</td>\n",
       "      <td>ERA Self-diagnosis\\nFunctional Description\\n\\n...</td>\n",
       "      <td></td>\n",
       "      <td></td>\n",
       "      <td>Description:\\nERA self-diagnosis whether the s...</td>\n",
       "      <td></td>\n",
       "      <td></td>\n",
       "      <td>Next words are missing in UC-text:\\n- [I-30371...</td>\n",
       "      <td>Next words are missing in SSTS-text:\\n Functio...</td>\n",
       "      <td>None</td>\n",
       "    </tr>\n",
       "    <tr>\n",
       "      <th>8</th>\n",
       "      <td>26161</td>\n",
       "      <td>FM Radio Stations switching</td>\n",
       "      <td>[I-26161]  FM Radio Stations switching\\nDescri...</td>\n",
       "      <td>Automatic search\\nFunctional Description\\nSupp...</td>\n",
       "      <td>Description: Requirenments:\\nThe action is dis...</td>\n",
       "      <td>Postconditions:\\nout_5/out_2 shows the station...</td>\n",
       "      <td>Main Scenario:\\nUser presses the forward/backw...</td>\n",
       "      <td>Preconditions:\\nUser has selected FM Radio pla...</td>\n",
       "      <td></td>\n",
       "      <td>None</td>\n",
       "      <td>None</td>\n",
       "      <td>None</td>\n",
       "    </tr>\n",
       "    <tr>\n",
       "      <th>9</th>\n",
       "      <td>8800</td>\n",
       "      <td>Receiving Call Notifications</td>\n",
       "      <td>[I-8800]  Receiving Call Notifications\\nPrecon...</td>\n",
       "      <td>Receiving Call Notifications\\nFunctional Descr...</td>\n",
       "      <td></td>\n",
       "      <td>Postconditions:\\nIf the call is accepted, the ...</td>\n",
       "      <td>Main Scenario:\\nAn incoming call is received o...</td>\n",
       "      <td>Preconditions\\nEntertainment system is ready. ...</td>\n",
       "      <td></td>\n",
       "      <td>None</td>\n",
       "      <td>None</td>\n",
       "      <td>None</td>\n",
       "    </tr>\n",
       "    <tr>\n",
       "      <th>10</th>\n",
       "      <td>11467</td>\n",
       "      <td>Revoke access to the vehicle from a driver or ...</td>\n",
       "      <td>[I-11467]  Revoke access to the vehicle from a...</td>\n",
       "      <td>Users can remotely control the DK deletion thr...</td>\n",
       "      <td></td>\n",
       "      <td>Postconditions:\\nAccess has been successfully ...</td>\n",
       "      <td>Main Scenario:\\nAlice opens the ATOM applicati...</td>\n",
       "      <td>Preconditions:\\nAlice - the owner or the drive...</td>\n",
       "      <td>Goal:\\nEnable the Owner to quickly revoke acce...</td>\n",
       "      <td>None</td>\n",
       "      <td>None</td>\n",
       "      <td>None</td>\n",
       "    </tr>\n",
       "    <tr>\n",
       "      <th>11</th>\n",
       "      <td>8692</td>\n",
       "      <td>Emergency Service Communication (ERA-Glonass)</td>\n",
       "      <td>[I-8692]  Emergency Service Communication (ERA...</td>\n",
       "      <td>Manual dialing E-CALL\\nFunctional Description\\...</td>\n",
       "      <td>Trigger:\\nThe vehicle sensors detect a collisi...</td>\n",
       "      <td>Postconditions：\\nThe driver is able to communi...</td>\n",
       "      <td>Main Scenario:\\nThe ERA-Glonass initiates emer...</td>\n",
       "      <td>Preconditions:\\nThe vehicle is in the Drive St...</td>\n",
       "      <td></td>\n",
       "      <td>None</td>\n",
       "      <td>None</td>\n",
       "      <td>None</td>\n",
       "    </tr>\n",
       "  </tbody>\n",
       "</table>\n",
       "</div>"
      ],
      "text/plain": [
       "       id                                          case_name  \\\n",
       "0    6583                 Driver initiate a call through SWP   \n",
       "1   30371                                 ERA Self-diagnosis   \n",
       "2   28561                    Setting Hotspot name & password   \n",
       "3   26160              Filtering the internet radio stations   \n",
       "4   25957                  Mute/unmute the FM Radio playback   \n",
       "5   31523            Adding Internet Radio to Favorites List   \n",
       "6   26771                     Turn on and off hotspot via VA   \n",
       "7    8604                  Source selection for Media output   \n",
       "8   26161                        FM Radio Stations switching   \n",
       "9    8800                       Receiving Call Notifications   \n",
       "10  11467  Revoke access to the vehicle from a driver or ...   \n",
       "11   8692      Emergency Service Communication (ERA-Glonass)   \n",
       "\n",
       "                                         full_uc_text  \\\n",
       "0   [I-6583]  Driver initiate a call through SWP\\n...   \n",
       "1   [I-30371]  ERA Self-diagnosis\\nActors:\\nERA-Gl...   \n",
       "2   [I-28561]  Setting Hotspot name & password\\nUs...   \n",
       "3   [I-26160]  Filtering the internet radio statio...   \n",
       "4   [I-25957]  Mute/unmute the FM Radio playback\\n...   \n",
       "5   [I-31523]  Adding Internet Radio to Favorites ...   \n",
       "6   [I-26771]  Turn on and off hotspot via VA\\n\\nD...   \n",
       "7   [I-8604]  Source selection for Media output\\nD...   \n",
       "8   [I-26161]  FM Radio Stations switching\\nDescri...   \n",
       "9   [I-8800]  Receiving Call Notifications\\nPrecon...   \n",
       "10  [I-11467]  Revoke access to the vehicle from a...   \n",
       "11  [I-8692]  Emergency Service Communication (ERA...   \n",
       "\n",
       "                                       full_ssts_text  \\\n",
       "0   Make a call (B sample)\\nFunctional Description...   \n",
       "1   ERA Self-diagnosis\\nFunctional Description\\n\\n...   \n",
       "2   hotspot settings\\nFunctional Description\\nUser...   \n",
       "3                                                None   \n",
       "4   Mute or pause function\\nFunctional Description...   \n",
       "5   Favorite Song operation\\nFunctional Descriptio...   \n",
       "6   \\nTurn on and off hotspot\\nFunctional Descript...   \n",
       "7   Switch music sources\\nFunctional Description\\n...   \n",
       "8   Automatic search\\nFunctional Description\\nSupp...   \n",
       "9   Receiving Call Notifications\\nFunctional Descr...   \n",
       "10  Users can remotely control the DK deletion thr...   \n",
       "11  Manual dialing E-CALL\\nFunctional Description\\...   \n",
       "\n",
       "                                                other  \\\n",
       "0                                                       \n",
       "1   Description:\\nERA self-diagnosis whether the s...   \n",
       "2   Scope: \\nSWP Actors:\\nDriver \\nOwner Requireme...   \n",
       "3   Description: Requirenments:\\nThe action is dis...   \n",
       "4                                       Description:    \n",
       "5   Description: Actors:\\nCar User \\nIVI Triggers:...   \n",
       "6   Description: Scope:\\nSWP Android \\nVA \\nSmartp...   \n",
       "7   Description: Scope: This use case is about sel...   \n",
       "8   Description: Requirenments:\\nThe action is dis...   \n",
       "9                                                       \n",
       "10                                                      \n",
       "11  Trigger:\\nThe vehicle sensors detect a collisi...   \n",
       "\n",
       "                                       postconditions  \\\n",
       "0   Postconditions:\\nIf the call is initiated succ...   \n",
       "1                                                       \n",
       "2                                                       \n",
       "3   Postconditions:\\nout_2/out_5 displays the inte...   \n",
       "4   Postconditions:\\nThe user Mutes/Unmutes the FM...   \n",
       "5   Postconditions:\\nThe selected internet radio s...   \n",
       "6                                                       \n",
       "7   Postconditions:\\nout_2/out_5 shows available m...   \n",
       "8   Postconditions:\\nout_5/out_2 shows the station...   \n",
       "9   Postconditions:\\nIf the call is accepted, the ...   \n",
       "10  Postconditions:\\nAccess has been successfully ...   \n",
       "11  Postconditions：\\nThe driver is able to communi...   \n",
       "\n",
       "                                        main_scenario  \\\n",
       "0   Main Scenario:\\nThe driver navigates to the 'C...   \n",
       "1                                                       \n",
       "2   Main Scenario:\\nThe user guides to the hotspot...   \n",
       "3   Main Scenario:\\nout_2/out_5 displays the list ...   \n",
       "4   Main Scenario:\\n​​​User clicks on Mute/Unmute ...   \n",
       "5   Main Scenario:\\nThe user press on the UI inter...   \n",
       "6   Main scenario:\\nThe user asks in_24 Voice. Mic...   \n",
       "7   Main Scenario:\\nUser selects the \"Multimedia\" ...   \n",
       "8   Main Scenario:\\nUser presses the forward/backw...   \n",
       "9   Main Scenario:\\nAn incoming call is received o...   \n",
       "10  Main Scenario:\\nAlice opens the ATOM applicati...   \n",
       "11  Main Scenario:\\nThe ERA-Glonass initiates emer...   \n",
       "\n",
       "                                        preconditions  \\\n",
       "0   Preconditions:\\nThe IVI is on in_2 \\nThe vehic...   \n",
       "1                                                       \n",
       "2                                                       \n",
       "3   Preconditions:\\nATOM is connected to the inter...   \n",
       "4           Preconditions:\\nUser is playing FM Radio    \n",
       "5   Preconditions:\\nUser in in the Internet Radio ...   \n",
       "6                                                       \n",
       "7   Preconditions:\\nATOM is on \\nin_5. Smartphone ...   \n",
       "8   Preconditions:\\nUser has selected FM Radio pla...   \n",
       "9   Preconditions\\nEntertainment system is ready. ...   \n",
       "10  Preconditions:\\nAlice - the owner or the drive...   \n",
       "11  Preconditions:\\nThe vehicle is in the Drive St...   \n",
       "\n",
       "                                                 goal differences description  \\\n",
       "0                                                            None        None   \n",
       "1                                                            None        None   \n",
       "2   Goal:\\nUsers can modify the name and password ...        None        None   \n",
       "3   Goal: 'Reorder the Internet Radio stations by ...        None        None   \n",
       "4   Goal: \"Users are able to mute/unmute the FM Ra...        None        None   \n",
       "5   Goal: User wants to add favorites internet rad...        None        None   \n",
       "6   Goal: \\nUsers can turn on or off the vehicle h...        None        None   \n",
       "7   Goal: Enable user selection of multimedia audi...        None        None   \n",
       "8                                                            None        None   \n",
       "9                                                            None        None   \n",
       "10  Goal:\\nEnable the Owner to quickly revoke acce...        None        None   \n",
       "11                                                           None        None   \n",
       "\n",
       "                                                 goal  \\\n",
       "0   Goal: \"Users are able to mute/unmute the FM Ra...   \n",
       "1   Goal:\\nUsers can modify the name and password ...   \n",
       "2   Goal: User wants to add favorites internet rad...   \n",
       "3                                                       \n",
       "4                                                       \n",
       "5   Goal:\\nEnable the Owner to quickly revoke acce...   \n",
       "6   Goal: Enable user selection of multimedia audi...   \n",
       "7                                                       \n",
       "8                                                       \n",
       "9   Goal: 'Reorder the Internet Radio stations by ...   \n",
       "10  Goal: \\nUsers can turn on or off the vehicle h...   \n",
       "11                                                      \n",
       "\n",
       "                                          differences  \\\n",
       "0   Next words are missing in UC-text:\\n- [I-25957...   \n",
       "1   Next words are missing in UC-text:\\n- [I-28561...   \n",
       "2   Next words are missing in UC-text:\\n- [I-31523...   \n",
       "3   Next words are missing in UC-text:\\n- [I-6583]...   \n",
       "4   Next words are missing in UC-text:\\n- [I-8800]...   \n",
       "5   Next words are missing in UC-text:\\n- [I-11467...   \n",
       "6   Next words are missing in UC-text:\\n- [I-8604]...   \n",
       "7   Next words are missing in UC-text:\\n- [I-30371...   \n",
       "8   Next words are missing in UC-text:\\n- [I-8692]...   \n",
       "9   Next words are missing in UC-text:\\n- [I-26160...   \n",
       "10  Next words are missing in UC-text:\\n- [I-26771...   \n",
       "11  Next words are missing in UC-text:\\n- [I-26161...   \n",
       "\n",
       "                                          description complience_level  \n",
       "0   Next words are missing in SSTS-text:\\n Mute: 1...             None  \n",
       "1   Next words are missing in SSTS-text:\\n hotspot...             None  \n",
       "2   Next words are missing in SSTS-text:\\n Favorit...             None  \n",
       "3   Next words are missing in SSTS-text:\\n Make: 4...             None  \n",
       "4   Next words are missing in SSTS-text:\\n Functio...             None  \n",
       "5   Next words are missing in SSTS-text:\\n Users: ...             None  \n",
       "6   Next words are missing in SSTS-text:\\n Switch:...             None  \n",
       "7   Next words are missing in SSTS-text:\\n Functio...             None  \n",
       "8   Next words are missing in SSTS-text:\\n Manual:...             None  \n",
       "9              Next words are missing in SSTS-text:\\n             None  \n",
       "10  Next words are missing in SSTS-text:\\n Functio...             None  \n",
       "11  Next words are missing in SSTS-text:\\n Automat...             None  "
      ]
     },
     "execution_count": 3,
     "metadata": {},
     "output_type": "execute_result"
    }
   ],
   "source": [
    "ds = create_ds(uc_data_dir, ssts_data_dir, columns)\n",
    "ds"
   ]
  },
  {
   "cell_type": "markdown",
   "metadata": {},
   "source": [
    "# Target"
   ]
  },
  {
   "cell_type": "code",
   "execution_count": 4,
   "metadata": {},
   "outputs": [
    {
     "data": {
      "text/html": [
       "<div>\n",
       "<style scoped>\n",
       "    .dataframe tbody tr th:only-of-type {\n",
       "        vertical-align: middle;\n",
       "    }\n",
       "\n",
       "    .dataframe tbody tr th {\n",
       "        vertical-align: top;\n",
       "    }\n",
       "\n",
       "    .dataframe thead th {\n",
       "        text-align: right;\n",
       "    }\n",
       "</style>\n",
       "<table border=\"1\" class=\"dataframe\">\n",
       "  <thead>\n",
       "    <tr style=\"text-align: right;\">\n",
       "      <th></th>\n",
       "      <th>id</th>\n",
       "      <th>case_name</th>\n",
       "      <th>full_uc_text</th>\n",
       "      <th>full_ssts_text</th>\n",
       "      <th>other</th>\n",
       "      <th>postconditions</th>\n",
       "      <th>main_scenario</th>\n",
       "      <th>preconditions</th>\n",
       "      <th>goal</th>\n",
       "      <th>differences</th>\n",
       "      <th>description</th>\n",
       "      <th>complience_level</th>\n",
       "      <th>target</th>\n",
       "    </tr>\n",
       "  </thead>\n",
       "  <tbody>\n",
       "    <tr>\n",
       "      <th>0</th>\n",
       "      <td>6583</td>\n",
       "      <td>Driver initiate a call through SWP</td>\n",
       "      <td>[I-6583]  Driver initiate a call through SWP\\n...</td>\n",
       "      <td>Make a call (B sample)\\nFunctional Description...</td>\n",
       "      <td></td>\n",
       "      <td>Postconditions:\\nIf the call is initiated succ...</td>\n",
       "      <td>Main Scenario:\\nThe driver navigates to the 'C...</td>\n",
       "      <td>Preconditions:\\nThe IVI is on in_2 \\nThe vehic...</td>\n",
       "      <td></td>\n",
       "      <td>None</td>\n",
       "      <td>3</td>\n",
       "    </tr>\n",
       "    <tr>\n",
       "      <th>1</th>\n",
       "      <td>30371</td>\n",
       "      <td>ERA Self-diagnosis</td>\n",
       "      <td>[I-30371]  ERA Self-diagnosis\\nActors:\\nERA-Gl...</td>\n",
       "      <td>ERA Self-diagnosis\\nFunctional Description\\n\\n...</td>\n",
       "      <td>Description:\\nERA self-diagnosis whether the s...</td>\n",
       "      <td></td>\n",
       "      <td></td>\n",
       "      <td></td>\n",
       "      <td></td>\n",
       "      <td>None</td>\n",
       "      <td>None</td>\n",
       "      <td>None</td>\n",
       "      <td>4</td>\n",
       "    </tr>\n",
       "    <tr>\n",
       "      <th>2</th>\n",
       "      <td>28561</td>\n",
       "      <td>Setting Hotspot name &amp; password</td>\n",
       "      <td>[I-28561]  Setting Hotspot name &amp; password\\nUs...</td>\n",
       "      <td>hotspot settings\\nFunctional Description\\nUser...</td>\n",
       "      <td>Scope: \\nSWP Actors:\\nDriver \\nOwner Requireme...</td>\n",
       "      <td></td>\n",
       "      <td>Main Scenario:\\nThe user guides to the hotspot...</td>\n",
       "      <td></td>\n",
       "      <td>Goal:\\nUsers can modify the name and password ...</td>\n",
       "      <td>None</td>\n",
       "      <td>2</td>\n",
       "    </tr>\n",
       "    <tr>\n",
       "      <th>4</th>\n",
       "      <td>8800</td>\n",
       "      <td>Receiving Call Notifications</td>\n",
       "      <td>[I-8800]  Receiving Call Notifications\\nPrecon...</td>\n",
       "      <td>Receiving Call Notifications\\nFunctional Descr...</td>\n",
       "      <td>Main Scenario:\\nAn incoming call is received o...</td>\n",
       "      <td>Preconditions\\nEntertainment system is ready. ...</td>\n",
       "      <td></td>\n",
       "      <td>Postconditions:\\nIf the call is accepted, the ...</td>\n",
       "      <td></td>\n",
       "      <td>Next words are missing in UC-text:\\n- [I-8800]...</td>\n",
       "      <td>Next words are missing in SSTS-text:\\n Functio...</td>\n",
       "      <td>None</td>\n",
       "      <td>4</td>\n",
       "    </tr>\n",
       "    <tr>\n",
       "      <th>3</th>\n",
       "      <td>26160</td>\n",
       "      <td>Filtering the internet radio stations</td>\n",
       "      <td>[I-26160]  Filtering the internet radio statio...</td>\n",
       "      <td>None</td>\n",
       "      <td>Description: Requirenments:\\nThe action is dis...</td>\n",
       "      <td>Postconditions:\\nout_2/out_5 displays the inte...</td>\n",
       "      <td>Main Scenario:\\nout_2/out_5 displays the list ...</td>\n",
       "      <td>Preconditions:\\nATOM is connected to the inter...</td>\n",
       "      <td>Goal: 'Reorder the Internet Radio stations by ...</td>\n",
       "      <td>None</td>\n",
       "      <td>None</td>\n",
       "      <td>None</td>\n",
       "      <td>1</td>\n",
       "    </tr>\n",
       "    <tr>\n",
       "      <th>4</th>\n",
       "      <td>25957</td>\n",
       "      <td>Mute/unmute the FM Radio playback</td>\n",
       "      <td>[I-25957]  Mute/unmute the FM Radio playback\\n...</td>\n",
       "      <td>Mute or pause function\\nFunctional Description...</td>\n",
       "      <td>Description:</td>\n",
       "      <td>Postconditions:\\nThe user Mutes/Unmutes the FM...</td>\n",
       "      <td>Main Scenario:\\n​​​User clicks on Mute/Unmute ...</td>\n",
       "      <td>Preconditions:\\nUser is playing FM Radio</td>\n",
       "      <td>Goal: \"Users are able to mute/unmute the FM Ra...</td>\n",
       "      <td>None</td>\n",
       "      <td>None</td>\n",
       "      <td>None</td>\n",
       "      <td>3</td>\n",
       "    </tr>\n",
       "    <tr>\n",
       "      <th>5</th>\n",
       "      <td>31523</td>\n",
       "      <td>Adding Internet Radio to Favorites List</td>\n",
       "      <td>[I-31523]  Adding Internet Radio to Favorites ...</td>\n",
       "      <td>Favorite Song operation\\nFunctional Descriptio...</td>\n",
       "      <td>Description: Actors:\\nCar User \\nIVI Triggers:...</td>\n",
       "      <td>Postconditions:\\nThe selected internet radio s...</td>\n",
       "      <td>Main Scenario:\\nThe user press on the UI inter...</td>\n",
       "      <td>Preconditions:\\nUser in in the Internet Radio ...</td>\n",
       "      <td>Goal: User wants to add favorites internet rad...</td>\n",
       "      <td>None</td>\n",
       "      <td>None</td>\n",
       "      <td>None</td>\n",
       "      <td>4</td>\n",
       "    </tr>\n",
       "    <tr>\n",
       "      <th>6</th>\n",
       "      <td>26771</td>\n",
       "      <td>Turn on and off hotspot via VA</td>\n",
       "      <td>[I-26771]  Turn on and off hotspot via VA\\n\\nD...</td>\n",
       "      <td>\\nTurn on and off hotspot\\nFunctional Descript...</td>\n",
       "      <td>Description: Scope:\\nSWP Android \\nVA \\nSmartp...</td>\n",
       "      <td></td>\n",
       "      <td>Main scenario:\\nThe user asks in_24 Voice. Mic...</td>\n",
       "      <td></td>\n",
       "      <td>Goal: \\nUsers can turn on or off the vehicle h...</td>\n",
       "      <td>None</td>\n",
       "      <td>None</td>\n",
       "      <td>None</td>\n",
       "      <td>4</td>\n",
       "    </tr>\n",
       "    <tr>\n",
       "      <th>7</th>\n",
       "      <td>8604</td>\n",
       "      <td>Source selection for Media output</td>\n",
       "      <td>[I-8604]  Source selection for Media output\\nD...</td>\n",
       "      <td>Switch music sources\\nFunctional Description\\n...</td>\n",
       "      <td>Description: Scope: This use case is about sel...</td>\n",
       "      <td>Postconditions:\\nout_2/out_5 shows available m...</td>\n",
       "      <td>Main Scenario:\\nUser selects the \"Multimedia\" ...</td>\n",
       "      <td>Preconditions:\\nATOM is on \\nin_5. Smartphone ...</td>\n",
       "      <td>Goal: Enable user selection of multimedia audi...</td>\n",
       "      <td>None</td>\n",
       "      <td>None</td>\n",
       "      <td>None</td>\n",
       "      <td>2</td>\n",
       "    </tr>\n",
       "    <tr>\n",
       "      <th>8</th>\n",
       "      <td>26161</td>\n",
       "      <td>FM Radio Stations switching</td>\n",
       "      <td>[I-26161]  FM Radio Stations switching\\nDescri...</td>\n",
       "      <td>Automatic search\\nFunctional Description\\nSupp...</td>\n",
       "      <td>Description: Requirenments:\\nThe action is dis...</td>\n",
       "      <td>Postconditions:\\nout_5/out_2 shows the station...</td>\n",
       "      <td>Main Scenario:\\nUser presses the forward/backw...</td>\n",
       "      <td>Preconditions:\\nUser has selected FM Radio pla...</td>\n",
       "      <td></td>\n",
       "      <td>Description:\\nERA self-diagnosis whether the s...</td>\n",
       "      <td></td>\n",
       "      <td></td>\n",
       "      <td>Next words are missing in UC-text:\\n- [I-30371...</td>\n",
       "      <td>Next words are missing in SSTS-text:\\n Functio...</td>\n",
       "      <td>None</td>\n",
       "      <td>4</td>\n",
       "    </tr>\n",
       "    <tr>\n",
       "      <th>8</th>\n",
       "      <td>8692</td>\n",
       "      <td>Emergency Service Communication (ERA-Glonass)</td>\n",
       "      <td>[I-8692]  Emergency Service Communication (ERA...</td>\n",
       "      <td>Manual dialing E-CALL\\nFunctional Description\\...</td>\n",
       "      <td>Main Scenario:\\nThe ERA-Glonass initiates emer...</td>\n",
       "      <td>Preconditions:\\nThe vehicle is in the Drive St...</td>\n",
       "      <td>Trigger:\\nThe vehicle sensors detect a collisi...</td>\n",
       "      <td>Postconditions：\\nThe driver is able to communi...</td>\n",
       "      <td></td>\n",
       "      <td>Next words are missing in UC-text:\\n- [I-8692]...</td>\n",
       "      <td>Next words are missing in SSTS-text:\\n Manual:...</td>\n",
       "      <td>None</td>\n",
       "      <td>4</td>\n",
       "    </tr>\n",
       "    <tr>\n",
       "      <th>9</th>\n",
       "      <td>8800</td>\n",
       "      <td>Receiving Call Notifications</td>\n",
       "      <td>[I-8800]  Receiving Call Notifications\\nPrecon...</td>\n",
       "      <td>Receiving Call Notifications\\nFunctional Descr...</td>\n",
       "      <td></td>\n",
       "      <td>Postconditions:\\nIf the call is accepted, the ...</td>\n",
       "      <td>Main Scenario:\\nAn incoming call is received o...</td>\n",
       "      <td>Preconditions\\nEntertainment system is ready. ...</td>\n",
       "      <td></td>\n",
       "      <td>None</td>\n",
       "      <td>None</td>\n",
       "      <td>None</td>\n",
       "      <td>4</td>\n",
       "    </tr>\n",
       "    <tr>\n",
       "      <th>10</th>\n",
       "      <td>11467</td>\n",
       "      <td>Revoke access to the vehicle from a driver or ...</td>\n",
       "      <td>[I-11467]  Revoke access to the vehicle from a...</td>\n",
       "      <td>Users can remotely control the DK deletion thr...</td>\n",
       "      <td></td>\n",
       "      <td>Postconditions:\\nAccess has been successfully ...</td>\n",
       "      <td>Main Scenario:\\nAlice opens the ATOM applicati...</td>\n",
       "      <td>Preconditions:\\nAlice - the owner or the drive...</td>\n",
       "      <td>Goal:\\nEnable the Owner to quickly revoke acce...</td>\n",
       "      <td>None</td>\n",
       "      <td>None</td>\n",
       "      <td>None</td>\n",
       "      <td>5</td>\n",
       "    </tr>\n",
       "    <tr>\n",
       "      <th>11</th>\n",
       "      <td>8692</td>\n",
       "      <td>Emergency Service Communication (ERA-Glonass)</td>\n",
       "      <td>[I-8692]  Emergency Service Communication (ERA...</td>\n",
       "      <td>Manual dialing E-CALL\\nFunctional Description\\...</td>\n",
       "      <td>Trigger:\\nThe vehicle sensors detect a collisi...</td>\n",
       "      <td>Postconditions：\\nThe driver is able to communi...</td>\n",
       "      <td>Main Scenario:\\nThe ERA-Glonass initiates emer...</td>\n",
       "      <td>Preconditions:\\nThe vehicle is in the Drive St...</td>\n",
       "      <td></td>\n",
       "      <td>None</td>\n",
       "      <td>None</td>\n",
       "      <td>None</td>\n",
       "      <td>4</td>\n",
       "    </tr>\n",
       "  </tbody>\n",
       "</table>\n",
       "</div>"
      ],
      "text/plain": [
       "       id                                          case_name  \\\n",
       "0    6583                 Driver initiate a call through SWP   \n",
       "1   30371                                 ERA Self-diagnosis   \n",
       "2   28561                    Setting Hotspot name & password   \n",
       "3   26160              Filtering the internet radio stations   \n",
       "4   25957                  Mute/unmute the FM Radio playback   \n",
       "5   31523            Adding Internet Radio to Favorites List   \n",
       "6   26771                     Turn on and off hotspot via VA   \n",
       "7    8604                  Source selection for Media output   \n",
       "8   26161                        FM Radio Stations switching   \n",
       "9    8800                       Receiving Call Notifications   \n",
       "10  11467  Revoke access to the vehicle from a driver or ...   \n",
       "11   8692      Emergency Service Communication (ERA-Glonass)   \n",
       "\n",
       "                                         full_uc_text  \\\n",
       "0   [I-6583]  Driver initiate a call through SWP\\n...   \n",
       "1   [I-30371]  ERA Self-diagnosis\\nActors:\\nERA-Gl...   \n",
       "2   [I-28561]  Setting Hotspot name & password\\nUs...   \n",
       "3   [I-26160]  Filtering the internet radio statio...   \n",
       "4   [I-25957]  Mute/unmute the FM Radio playback\\n...   \n",
       "5   [I-31523]  Adding Internet Radio to Favorites ...   \n",
       "6   [I-26771]  Turn on and off hotspot via VA\\n\\nD...   \n",
       "7   [I-8604]  Source selection for Media output\\nD...   \n",
       "8   [I-26161]  FM Radio Stations switching\\nDescri...   \n",
       "9   [I-8800]  Receiving Call Notifications\\nPrecon...   \n",
       "10  [I-11467]  Revoke access to the vehicle from a...   \n",
       "11  [I-8692]  Emergency Service Communication (ERA...   \n",
       "\n",
       "                                       full_ssts_text  \\\n",
       "0   Make a call (B sample)\\nFunctional Description...   \n",
       "1   ERA Self-diagnosis\\nFunctional Description\\n\\n...   \n",
       "2   hotspot settings\\nFunctional Description\\nUser...   \n",
       "3                                                None   \n",
       "4   Mute or pause function\\nFunctional Description...   \n",
       "5   Favorite Song operation\\nFunctional Descriptio...   \n",
       "6   \\nTurn on and off hotspot\\nFunctional Descript...   \n",
       "7   Switch music sources\\nFunctional Description\\n...   \n",
       "8   Automatic search\\nFunctional Description\\nSupp...   \n",
       "9   Receiving Call Notifications\\nFunctional Descr...   \n",
       "10  Users can remotely control the DK deletion thr...   \n",
       "11  Manual dialing E-CALL\\nFunctional Description\\...   \n",
       "\n",
       "                                                other  \\\n",
       "0                                                       \n",
       "1   Description:\\nERA self-diagnosis whether the s...   \n",
       "2   Scope: \\nSWP Actors:\\nDriver \\nOwner Requireme...   \n",
       "3   Description: Requirenments:\\nThe action is dis...   \n",
       "4                                       Description:    \n",
       "5   Description: Actors:\\nCar User \\nIVI Triggers:...   \n",
       "6   Description: Scope:\\nSWP Android \\nVA \\nSmartp...   \n",
       "7   Description: Scope: This use case is about sel...   \n",
       "8   Description: Requirenments:\\nThe action is dis...   \n",
       "9                                                       \n",
       "10                                                      \n",
       "11  Trigger:\\nThe vehicle sensors detect a collisi...   \n",
       "\n",
       "                                       postconditions  \\\n",
       "0   Postconditions:\\nIf the call is initiated succ...   \n",
       "1                                                       \n",
       "2                                                       \n",
       "3   Postconditions:\\nout_2/out_5 displays the inte...   \n",
       "4   Postconditions:\\nThe user Mutes/Unmutes the FM...   \n",
       "5   Postconditions:\\nThe selected internet radio s...   \n",
       "6                                                       \n",
       "7   Postconditions:\\nout_2/out_5 shows available m...   \n",
       "8   Postconditions:\\nout_5/out_2 shows the station...   \n",
       "9   Postconditions:\\nIf the call is accepted, the ...   \n",
       "10  Postconditions:\\nAccess has been successfully ...   \n",
       "11  Postconditions：\\nThe driver is able to communi...   \n",
       "\n",
       "                                        main_scenario  \\\n",
       "0   Main Scenario:\\nThe driver navigates to the 'C...   \n",
       "1                                                       \n",
       "2   Main Scenario:\\nThe user guides to the hotspot...   \n",
       "3   Main Scenario:\\nout_2/out_5 displays the list ...   \n",
       "4   Main Scenario:\\n​​​User clicks on Mute/Unmute ...   \n",
       "5   Main Scenario:\\nThe user press on the UI inter...   \n",
       "6   Main scenario:\\nThe user asks in_24 Voice. Mic...   \n",
       "7   Main Scenario:\\nUser selects the \"Multimedia\" ...   \n",
       "8   Main Scenario:\\nUser presses the forward/backw...   \n",
       "9   Main Scenario:\\nAn incoming call is received o...   \n",
       "10  Main Scenario:\\nAlice opens the ATOM applicati...   \n",
       "11  Main Scenario:\\nThe ERA-Glonass initiates emer...   \n",
       "\n",
       "                                        preconditions  \\\n",
       "0   Preconditions:\\nThe IVI is on in_2 \\nThe vehic...   \n",
       "1                                                       \n",
       "2                                                       \n",
       "3   Preconditions:\\nATOM is connected to the inter...   \n",
       "4           Preconditions:\\nUser is playing FM Radio    \n",
       "5   Preconditions:\\nUser in in the Internet Radio ...   \n",
       "6                                                       \n",
       "7   Preconditions:\\nATOM is on \\nin_5. Smartphone ...   \n",
       "8   Preconditions:\\nUser has selected FM Radio pla...   \n",
       "9   Preconditions\\nEntertainment system is ready. ...   \n",
       "10  Preconditions:\\nAlice - the owner or the drive...   \n",
       "11  Preconditions:\\nThe vehicle is in the Drive St...   \n",
       "\n",
       "                                                 goal differences description  \\\n",
       "0                                                            None        None   \n",
       "1                                                            None        None   \n",
       "2   Goal:\\nUsers can modify the name and password ...        None        None   \n",
       "3   Goal: 'Reorder the Internet Radio stations by ...        None        None   \n",
       "4   Goal: \"Users are able to mute/unmute the FM Ra...        None        None   \n",
       "5   Goal: User wants to add favorites internet rad...        None        None   \n",
       "6   Goal: \\nUsers can turn on or off the vehicle h...        None        None   \n",
       "7   Goal: Enable user selection of multimedia audi...        None        None   \n",
       "8                                                            None        None   \n",
       "9                                                            None        None   \n",
       "10  Goal:\\nEnable the Owner to quickly revoke acce...        None        None   \n",
       "11                                                           None        None   \n",
       "\n",
       "   complience_level  target  \n",
       "0              None       2  \n",
       "1              None       4  \n",
       "2              None       4  \n",
       "3              None       1  \n",
       "4              None       3  \n",
       "5              None       4  \n",
       "6              None       4  \n",
       "7              None       2  \n",
       "8              None       4  \n",
       "9              None       4  \n",
       "10             None       5  \n",
       "11             None       4  "
      ]
     },
     "execution_count": 4,
     "metadata": {},
     "output_type": "execute_result"
    }
   ],
   "source": [
    "marked_data = pd.read_excel(data_dir / \"raw_data\" / \"train_data_markup.xlsx\")\n",
    "marked_data = marked_data[[\"Number\", \"Complience Level\"]]\n",
    "marked_data = marked_data.rename(columns={\"Number\": \"id\", \"Complience Level\": \"complience_level\"})\n",
    "marked_data[\"target\"] = marked_data[\"complience_level\"].fillna(\"NA\").map(config[\"target_dict\"])\n",
    "marked_data = marked_data.drop(\"complience_level\", axis=1)\n",
    "marked_data[\"id\"] = marked_data[\"id\"].astype(str)\n",
    "\n",
    "ds = ds.merge(marked_data, on=\"id\")\n",
    "ds"
   ]
  },
  {
   "cell_type": "markdown",
   "metadata": {},
   "source": [
    "# Свэговые графики"
   ]
  },
  {
   "cell_type": "code",
   "execution_count": 5,
   "metadata": {},
   "outputs": [],
   "source": [
    "target_dict = config['target_dict']\n",
    "\n",
    "number_to_abbr = {value: key for key, value in target_dict.items()}"
   ]
  },
  {
   "cell_type": "code",
   "execution_count": 6,
   "metadata": {},
   "outputs": [
    {
     "name": "stdout",
     "output_type": "stream",
     "text": [
      "Index(['NA', 'NC', 'PC', 'LC', 'FC'], dtype='object', name='target')\n"
     ]
    }
   ],
   "source": [
    "target_percent = ds['target'].value_counts(normalize=True).sort_index() * 100\n",
    "labels = target_percent.index.map(number_to_abbr)\n",
    "print(labels)\n"
   ]
  },
  {
   "cell_type": "code",
   "execution_count": 7,
   "metadata": {},
   "outputs": [
    {
     "data": {
      "application/vnd.plotly.v1+json": {
       "config": {
        "plotlyServerURL": "https://plot.ly"
       },
       "data": [
        {
         "domain": {
          "x": [
           0,
           1
          ],
          "y": [
           0,
           1
          ]
         },
         "hovertemplate": "Target=%{label}<br>Percentage=%{value}<extra></extra>",
         "labels": [
          1,
          2,
          3,
          4,
          5
         ],
         "legendgroup": "",
         "name": "",
         "showlegend": true,
         "type": "pie",
         "values": [
          8.333333333333332,
          16.666666666666664,
          8.333333333333332,
          58.333333333333336,
          8.333333333333332
         ]
        }
       ],
       "layout": {
        "legend": {
         "tracegroupgap": 0
        },
        "piecolorway": [
         "rgb(102, 197, 204)",
         "rgb(246, 207, 113)",
         "rgb(248, 156, 116)",
         "rgb(220, 176, 242)",
         "rgb(135, 197, 95)",
         "rgb(158, 185, 243)",
         "rgb(254, 136, 177)",
         "rgb(201, 219, 116)",
         "rgb(139, 224, 164)",
         "rgb(180, 151, 231)",
         "rgb(179, 179, 179)"
        ],
        "template": {
         "data": {
          "bar": [
           {
            "error_x": {
             "color": "#2a3f5f"
            },
            "error_y": {
             "color": "#2a3f5f"
            },
            "marker": {
             "line": {
              "color": "white",
              "width": 0.5
             },
             "pattern": {
              "fillmode": "overlay",
              "size": 10,
              "solidity": 0.2
             }
            },
            "type": "bar"
           }
          ],
          "barpolar": [
           {
            "marker": {
             "line": {
              "color": "white",
              "width": 0.5
             },
             "pattern": {
              "fillmode": "overlay",
              "size": 10,
              "solidity": 0.2
             }
            },
            "type": "barpolar"
           }
          ],
          "carpet": [
           {
            "aaxis": {
             "endlinecolor": "#2a3f5f",
             "gridcolor": "#C8D4E3",
             "linecolor": "#C8D4E3",
             "minorgridcolor": "#C8D4E3",
             "startlinecolor": "#2a3f5f"
            },
            "baxis": {
             "endlinecolor": "#2a3f5f",
             "gridcolor": "#C8D4E3",
             "linecolor": "#C8D4E3",
             "minorgridcolor": "#C8D4E3",
             "startlinecolor": "#2a3f5f"
            },
            "type": "carpet"
           }
          ],
          "choropleth": [
           {
            "colorbar": {
             "outlinewidth": 0,
             "ticks": ""
            },
            "type": "choropleth"
           }
          ],
          "contour": [
           {
            "colorbar": {
             "outlinewidth": 0,
             "ticks": ""
            },
            "colorscale": [
             [
              0,
              "#0d0887"
             ],
             [
              0.1111111111111111,
              "#46039f"
             ],
             [
              0.2222222222222222,
              "#7201a8"
             ],
             [
              0.3333333333333333,
              "#9c179e"
             ],
             [
              0.4444444444444444,
              "#bd3786"
             ],
             [
              0.5555555555555556,
              "#d8576b"
             ],
             [
              0.6666666666666666,
              "#ed7953"
             ],
             [
              0.7777777777777778,
              "#fb9f3a"
             ],
             [
              0.8888888888888888,
              "#fdca26"
             ],
             [
              1,
              "#f0f921"
             ]
            ],
            "type": "contour"
           }
          ],
          "contourcarpet": [
           {
            "colorbar": {
             "outlinewidth": 0,
             "ticks": ""
            },
            "type": "contourcarpet"
           }
          ],
          "heatmap": [
           {
            "colorbar": {
             "outlinewidth": 0,
             "ticks": ""
            },
            "colorscale": [
             [
              0,
              "#0d0887"
             ],
             [
              0.1111111111111111,
              "#46039f"
             ],
             [
              0.2222222222222222,
              "#7201a8"
             ],
             [
              0.3333333333333333,
              "#9c179e"
             ],
             [
              0.4444444444444444,
              "#bd3786"
             ],
             [
              0.5555555555555556,
              "#d8576b"
             ],
             [
              0.6666666666666666,
              "#ed7953"
             ],
             [
              0.7777777777777778,
              "#fb9f3a"
             ],
             [
              0.8888888888888888,
              "#fdca26"
             ],
             [
              1,
              "#f0f921"
             ]
            ],
            "type": "heatmap"
           }
          ],
          "heatmapgl": [
           {
            "colorbar": {
             "outlinewidth": 0,
             "ticks": ""
            },
            "colorscale": [
             [
              0,
              "#0d0887"
             ],
             [
              0.1111111111111111,
              "#46039f"
             ],
             [
              0.2222222222222222,
              "#7201a8"
             ],
             [
              0.3333333333333333,
              "#9c179e"
             ],
             [
              0.4444444444444444,
              "#bd3786"
             ],
             [
              0.5555555555555556,
              "#d8576b"
             ],
             [
              0.6666666666666666,
              "#ed7953"
             ],
             [
              0.7777777777777778,
              "#fb9f3a"
             ],
             [
              0.8888888888888888,
              "#fdca26"
             ],
             [
              1,
              "#f0f921"
             ]
            ],
            "type": "heatmapgl"
           }
          ],
          "histogram": [
           {
            "marker": {
             "pattern": {
              "fillmode": "overlay",
              "size": 10,
              "solidity": 0.2
             }
            },
            "type": "histogram"
           }
          ],
          "histogram2d": [
           {
            "colorbar": {
             "outlinewidth": 0,
             "ticks": ""
            },
            "colorscale": [
             [
              0,
              "#0d0887"
             ],
             [
              0.1111111111111111,
              "#46039f"
             ],
             [
              0.2222222222222222,
              "#7201a8"
             ],
             [
              0.3333333333333333,
              "#9c179e"
             ],
             [
              0.4444444444444444,
              "#bd3786"
             ],
             [
              0.5555555555555556,
              "#d8576b"
             ],
             [
              0.6666666666666666,
              "#ed7953"
             ],
             [
              0.7777777777777778,
              "#fb9f3a"
             ],
             [
              0.8888888888888888,
              "#fdca26"
             ],
             [
              1,
              "#f0f921"
             ]
            ],
            "type": "histogram2d"
           }
          ],
          "histogram2dcontour": [
           {
            "colorbar": {
             "outlinewidth": 0,
             "ticks": ""
            },
            "colorscale": [
             [
              0,
              "#0d0887"
             ],
             [
              0.1111111111111111,
              "#46039f"
             ],
             [
              0.2222222222222222,
              "#7201a8"
             ],
             [
              0.3333333333333333,
              "#9c179e"
             ],
             [
              0.4444444444444444,
              "#bd3786"
             ],
             [
              0.5555555555555556,
              "#d8576b"
             ],
             [
              0.6666666666666666,
              "#ed7953"
             ],
             [
              0.7777777777777778,
              "#fb9f3a"
             ],
             [
              0.8888888888888888,
              "#fdca26"
             ],
             [
              1,
              "#f0f921"
             ]
            ],
            "type": "histogram2dcontour"
           }
          ],
          "mesh3d": [
           {
            "colorbar": {
             "outlinewidth": 0,
             "ticks": ""
            },
            "type": "mesh3d"
           }
          ],
          "parcoords": [
           {
            "line": {
             "colorbar": {
              "outlinewidth": 0,
              "ticks": ""
             }
            },
            "type": "parcoords"
           }
          ],
          "pie": [
           {
            "automargin": true,
            "type": "pie"
           }
          ],
          "scatter": [
           {
            "fillpattern": {
             "fillmode": "overlay",
             "size": 10,
             "solidity": 0.2
            },
            "type": "scatter"
           }
          ],
          "scatter3d": [
           {
            "line": {
             "colorbar": {
              "outlinewidth": 0,
              "ticks": ""
             }
            },
            "marker": {
             "colorbar": {
              "outlinewidth": 0,
              "ticks": ""
             }
            },
            "type": "scatter3d"
           }
          ],
          "scattercarpet": [
           {
            "marker": {
             "colorbar": {
              "outlinewidth": 0,
              "ticks": ""
             }
            },
            "type": "scattercarpet"
           }
          ],
          "scattergeo": [
           {
            "marker": {
             "colorbar": {
              "outlinewidth": 0,
              "ticks": ""
             }
            },
            "type": "scattergeo"
           }
          ],
          "scattergl": [
           {
            "marker": {
             "colorbar": {
              "outlinewidth": 0,
              "ticks": ""
             }
            },
            "type": "scattergl"
           }
          ],
          "scattermapbox": [
           {
            "marker": {
             "colorbar": {
              "outlinewidth": 0,
              "ticks": ""
             }
            },
            "type": "scattermapbox"
           }
          ],
          "scatterpolar": [
           {
            "marker": {
             "colorbar": {
              "outlinewidth": 0,
              "ticks": ""
             }
            },
            "type": "scatterpolar"
           }
          ],
          "scatterpolargl": [
           {
            "marker": {
             "colorbar": {
              "outlinewidth": 0,
              "ticks": ""
             }
            },
            "type": "scatterpolargl"
           }
          ],
          "scatterternary": [
           {
            "marker": {
             "colorbar": {
              "outlinewidth": 0,
              "ticks": ""
             }
            },
            "type": "scatterternary"
           }
          ],
          "surface": [
           {
            "colorbar": {
             "outlinewidth": 0,
             "ticks": ""
            },
            "colorscale": [
             [
              0,
              "#0d0887"
             ],
             [
              0.1111111111111111,
              "#46039f"
             ],
             [
              0.2222222222222222,
              "#7201a8"
             ],
             [
              0.3333333333333333,
              "#9c179e"
             ],
             [
              0.4444444444444444,
              "#bd3786"
             ],
             [
              0.5555555555555556,
              "#d8576b"
             ],
             [
              0.6666666666666666,
              "#ed7953"
             ],
             [
              0.7777777777777778,
              "#fb9f3a"
             ],
             [
              0.8888888888888888,
              "#fdca26"
             ],
             [
              1,
              "#f0f921"
             ]
            ],
            "type": "surface"
           }
          ],
          "table": [
           {
            "cells": {
             "fill": {
              "color": "#EBF0F8"
             },
             "line": {
              "color": "white"
             }
            },
            "header": {
             "fill": {
              "color": "#C8D4E3"
             },
             "line": {
              "color": "white"
             }
            },
            "type": "table"
           }
          ]
         },
         "layout": {
          "annotationdefaults": {
           "arrowcolor": "#2a3f5f",
           "arrowhead": 0,
           "arrowwidth": 1
          },
          "autotypenumbers": "strict",
          "coloraxis": {
           "colorbar": {
            "outlinewidth": 0,
            "ticks": ""
           }
          },
          "colorscale": {
           "diverging": [
            [
             0,
             "#8e0152"
            ],
            [
             0.1,
             "#c51b7d"
            ],
            [
             0.2,
             "#de77ae"
            ],
            [
             0.3,
             "#f1b6da"
            ],
            [
             0.4,
             "#fde0ef"
            ],
            [
             0.5,
             "#f7f7f7"
            ],
            [
             0.6,
             "#e6f5d0"
            ],
            [
             0.7,
             "#b8e186"
            ],
            [
             0.8,
             "#7fbc41"
            ],
            [
             0.9,
             "#4d9221"
            ],
            [
             1,
             "#276419"
            ]
           ],
           "sequential": [
            [
             0,
             "#0d0887"
            ],
            [
             0.1111111111111111,
             "#46039f"
            ],
            [
             0.2222222222222222,
             "#7201a8"
            ],
            [
             0.3333333333333333,
             "#9c179e"
            ],
            [
             0.4444444444444444,
             "#bd3786"
            ],
            [
             0.5555555555555556,
             "#d8576b"
            ],
            [
             0.6666666666666666,
             "#ed7953"
            ],
            [
             0.7777777777777778,
             "#fb9f3a"
            ],
            [
             0.8888888888888888,
             "#fdca26"
            ],
            [
             1,
             "#f0f921"
            ]
           ],
           "sequentialminus": [
            [
             0,
             "#0d0887"
            ],
            [
             0.1111111111111111,
             "#46039f"
            ],
            [
             0.2222222222222222,
             "#7201a8"
            ],
            [
             0.3333333333333333,
             "#9c179e"
            ],
            [
             0.4444444444444444,
             "#bd3786"
            ],
            [
             0.5555555555555556,
             "#d8576b"
            ],
            [
             0.6666666666666666,
             "#ed7953"
            ],
            [
             0.7777777777777778,
             "#fb9f3a"
            ],
            [
             0.8888888888888888,
             "#fdca26"
            ],
            [
             1,
             "#f0f921"
            ]
           ]
          },
          "colorway": [
           "#636efa",
           "#EF553B",
           "#00cc96",
           "#ab63fa",
           "#FFA15A",
           "#19d3f3",
           "#FF6692",
           "#B6E880",
           "#FF97FF",
           "#FECB52"
          ],
          "font": {
           "color": "#2a3f5f"
          },
          "geo": {
           "bgcolor": "white",
           "lakecolor": "white",
           "landcolor": "white",
           "showlakes": true,
           "showland": true,
           "subunitcolor": "#C8D4E3"
          },
          "hoverlabel": {
           "align": "left"
          },
          "hovermode": "closest",
          "mapbox": {
           "style": "light"
          },
          "paper_bgcolor": "white",
          "plot_bgcolor": "white",
          "polar": {
           "angularaxis": {
            "gridcolor": "#EBF0F8",
            "linecolor": "#EBF0F8",
            "ticks": ""
           },
           "bgcolor": "white",
           "radialaxis": {
            "gridcolor": "#EBF0F8",
            "linecolor": "#EBF0F8",
            "ticks": ""
           }
          },
          "scene": {
           "xaxis": {
            "backgroundcolor": "white",
            "gridcolor": "#DFE8F3",
            "gridwidth": 2,
            "linecolor": "#EBF0F8",
            "showbackground": true,
            "ticks": "",
            "zerolinecolor": "#EBF0F8"
           },
           "yaxis": {
            "backgroundcolor": "white",
            "gridcolor": "#DFE8F3",
            "gridwidth": 2,
            "linecolor": "#EBF0F8",
            "showbackground": true,
            "ticks": "",
            "zerolinecolor": "#EBF0F8"
           },
           "zaxis": {
            "backgroundcolor": "white",
            "gridcolor": "#DFE8F3",
            "gridwidth": 2,
            "linecolor": "#EBF0F8",
            "showbackground": true,
            "ticks": "",
            "zerolinecolor": "#EBF0F8"
           }
          },
          "shapedefaults": {
           "line": {
            "color": "#2a3f5f"
           }
          },
          "ternary": {
           "aaxis": {
            "gridcolor": "#DFE8F3",
            "linecolor": "#A2B1C6",
            "ticks": ""
           },
           "baxis": {
            "gridcolor": "#DFE8F3",
            "linecolor": "#A2B1C6",
            "ticks": ""
           },
           "bgcolor": "white",
           "caxis": {
            "gridcolor": "#DFE8F3",
            "linecolor": "#A2B1C6",
            "ticks": ""
           }
          },
          "title": {
           "x": 0.05
          },
          "xaxis": {
           "automargin": true,
           "gridcolor": "#EBF0F8",
           "linecolor": "#EBF0F8",
           "ticks": "",
           "title": {
            "standoff": 15
           },
           "zerolinecolor": "#EBF0F8",
           "zerolinewidth": 2
          },
          "yaxis": {
           "automargin": true,
           "gridcolor": "#EBF0F8",
           "linecolor": "#EBF0F8",
           "ticks": "",
           "title": {
            "standoff": 15
           },
           "zerolinecolor": "#EBF0F8",
           "zerolinewidth": 2
          }
         }
        },
        "title": {
         "text": "Процентное распределение таргетов"
        }
       }
      }
     },
     "metadata": {},
     "output_type": "display_data"
    }
   ],
   "source": [
    "data = target_percent.reset_index()\n",
    "data.columns = ['Target', 'Percentage']\n",
    "\n",
    "fig = px.pie(\n",
    "    data,\n",
    "    names='Target',\n",
    "    values='Percentage',\n",
    "    title='Процентное распределение таргетов',\n",
    "    color_discrete_sequence=px.colors.qualitative.Pastel\n",
    ")\n",
    "\n",
    "fig.update_layout(template='plotly_white')\n",
    "\n",
    "fig.show()"
   ]
  },
  {
   "cell_type": "markdown",
   "metadata": {},
   "source": [
    "# Свэговые графики"
   ]
  },
  {
   "cell_type": "code",
   "execution_count": 5,
   "metadata": {},
   "outputs": [],
   "source": [
    "target_dict = config['target_dict']\n",
    "\n",
    "number_to_abbr = {value: key for key, value in target_dict.items()}"
   ]
  },
  {
   "cell_type": "code",
   "execution_count": 6,
   "metadata": {},
   "outputs": [],
   "source": [
    "ds.to_csv(data_dir / \"ds\" / \"ds.unl\", sep=\"|\", encoding=\"utf-8\", index=False)"
   ]
  },
  {
   "cell_type": "code",
   "execution_count": null,
   "metadata": {},
   "outputs": [],
   "source": [
    "plt.savefig('target_distribution_pie_chart.png', dpi=300, bbox_inches='tight')"
   ]
  }
 ],
 "metadata": {
  "kernelspec": {
   "display_name": ".venv",
   "language": "python",
   "name": "python3"
  },
  "language_info": {
   "codemirror_mode": {
    "name": "ipython",
    "version": 3
   },
   "file_extension": ".py",
   "mimetype": "text/x-python",
   "name": "python",
   "nbconvert_exporter": "python",
   "pygments_lexer": "ipython3",
   "version": "3.8.2"
  }
 },
 "nbformat": 4,
 "nbformat_minor": 2
}
